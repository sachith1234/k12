{
  "nbformat": 4,
  "nbformat_minor": 0,
  "metadata": {
    "kernelspec": {
      "display_name": "Python 3",
      "language": "python",
      "name": "python3"
    },
    "language_info": {
      "codemirror_mode": {
        "name": "ipython",
        "version": 3
      },
      "file_extension": ".py",
      "mimetype": "text/x-python",
      "name": "python",
      "nbconvert_exporter": "python",
      "pygments_lexer": "ipython3",
      "version": "3.7.7"
    },
    "colab": {
      "name": "16th Sep - Face Detection.ipynb",
      "provenance": [],
      "include_colab_link": true
    }
  },
  "cells": [
    {
      "cell_type": "markdown",
      "metadata": {
        "id": "view-in-github",
        "colab_type": "text"
      },
      "source": [
        "<a href=\"https://colab.research.google.com/github/sachith1234/k12/blob/master/Face_Detection.ipynb\" target=\"_parent\"><img src=\"https://colab.research.google.com/assets/colab-badge.svg\" alt=\"Open In Colab\"/></a>"
      ]
    },
    {
      "cell_type": "code",
      "metadata": {
        "id": "dS-yjuymmKU6"
      },
      "source": [
        "import cv2"
      ],
      "execution_count": null,
      "outputs": []
    },
    {
      "cell_type": "code",
      "metadata": {
        "id": "DC1zUw35mKU8"
      },
      "source": [
        "img = cv2.imread('face.jpg')\n",
        "img = cv2.resize(img,(550,700))\n",
        "cv2.imshow('My Image',img)\n",
        "cv2.waitKey(0)     ## wait till I press any key\n",
        "#cv2.startWindowThread()  ## mac users\n",
        "cv2.destroyAllWindows()"
      ],
      "execution_count": null,
      "outputs": []
    },
    {
      "cell_type": "code",
      "metadata": {
        "id": "j2TnKMxYmKU9",
        "outputId": "ee4fbcd3-f6a8-44b2-fea2-f88469e8324f"
      },
      "source": [
        "img.shape"
      ],
      "execution_count": null,
      "outputs": [
        {
          "output_type": "execute_result",
          "data": {
            "text/plain": [
              "(999, 750, 3)"
            ]
          },
          "metadata": {
            "tags": []
          },
          "execution_count": 3
        }
      ]
    },
    {
      "cell_type": "code",
      "metadata": {
        "id": "8BWN9rSQmKU-",
        "outputId": "e658a5aa-8d32-463e-926b-1ff5b8b6e17f"
      },
      "source": [
        "img.shape"
      ],
      "execution_count": null,
      "outputs": [
        {
          "output_type": "execute_result",
          "data": {
            "text/plain": [
              "(700, 550, 3)"
            ]
          },
          "metadata": {
            "tags": []
          },
          "execution_count": 11
        }
      ]
    },
    {
      "cell_type": "code",
      "metadata": {
        "id": "gSK8USl6mKVA"
      },
      "source": [
        "### Detect the faces in image\n",
        "img = cv2.imread('face.jpg')\n",
        "img = cv2.resize(img,(550,700))\n",
        "face_cascade = cv2.CascadeClassifier('face.xml')\n",
        "faces = face_cascade.detectMultiScale(img)\n",
        "for x,y,w,h in faces:\n",
        "    p1 = (x,y)\n",
        "    p2 = (x+w,y+h)\n",
        "    color = (255,0,0)\n",
        "    cv2.rectangle(img,p1,p2,color,3)\n",
        "cv2.imshow('Face Detection',img)\n",
        "cv2.waitKey(0)     ## wait till I press any key\n",
        "#cv2.startWindowThread()  ## mac users\n",
        "cv2.destroyAllWindows()"
      ],
      "execution_count": null,
      "outputs": []
    },
    {
      "cell_type": "code",
      "metadata": {
        "id": "_c4PExKFmKVB"
      },
      "source": [
        "### Detect the eyes from face in image\n",
        "img = cv2.imread('face.jpg')\n",
        "img = cv2.resize(img,(550,700))\n",
        "face_cascade = cv2.CascadeClassifier('face.xml')\n",
        "eye_cascade = cv2.CascadeClassifier('eye.xml')\n",
        "faces = face_cascade.detectMultiScale(img)\n",
        "for x,y,w,h in faces:\n",
        "    p1 = (x,y)\n",
        "    p2 = (x+w,y+h)\n",
        "    color = (255,0,0)\n",
        "    cv2.rectangle(img,p1,p2,color,3)\n",
        "    single_face = img[y:y+h,x:x+w]\n",
        "    eyes = eye_cascade.detectMultiScale(single_face,1.15)\n",
        "    for ex,ey,ew,eh in eyes:\n",
        "        cv2.rectangle(single_face,(ex,ey),(ex+ew,ey+eh),(0,0,255),2)\n",
        "cv2.imshow('Face Detection',img)\n",
        "cv2.waitKey(0)     ## wait till I press any key\n",
        "#cv2.startWindowThread()  ## mac users\n",
        "cv2.destroyAllWindows()"
      ],
      "execution_count": null,
      "outputs": []
    },
    {
      "cell_type": "code",
      "metadata": {
        "id": "LT1FLptwmKVC"
      },
      "source": [
        "#### Access a Webcam\n",
        "import cv2\n",
        "cam = cv2.VideoCapture(0)   ## 0 - default webcam\n",
        "while True:\n",
        "    ret,img = cam.read()\n",
        "    cv2.imshow(\"Webcam\",img)\n",
        "    if cv2.waitKey(1) == 13:     ### 13 - ASCII Code for enter\n",
        "        break\n",
        "cam.release()\n",
        "cv2.destroyAllWindows()"
      ],
      "execution_count": null,
      "outputs": []
    },
    {
      "cell_type": "code",
      "metadata": {
        "id": "1BnZ3vW_mKVC"
      },
      "source": [
        "#### Detect the face from a Webcam\n",
        "import cv2\n",
        "cam = cv2.VideoCapture(0)   ## 0 - default webcam\n",
        "face_cascade = cv2.CascadeClassifier('face.xml')\n",
        "while True:\n",
        "    ret,img = cam.read()\n",
        "    faces = face_cascade.detectMultiScale(img)\n",
        "    for x,y,w,h in faces:\n",
        "        p1 = (x,y)\n",
        "        p2 = (x+w,y+h)\n",
        "        color = (255,0,0)\n",
        "        cv2.rectangle(img,p1,p2,color,3)\n",
        "    cv2.imshow(\"Webcam\",img)\n",
        "    if cv2.waitKey(1) == 13:     ### 13 - ASCII Code for enter\n",
        "        break\n",
        "cam.release()\n",
        "cv2.destroyAllWindows()"
      ],
      "execution_count": null,
      "outputs": []
    },
    {
      "cell_type": "code",
      "metadata": {
        "id": "9pGhy4rRmKVD"
      },
      "source": [
        "### Detect the object by color(blue)\n",
        "#### Access a Webcam\n",
        "import cv2\n",
        "import numpy as np\n",
        "cam = cv2.VideoCapture(0)   ## 0 - default webcam\n",
        "while True:\n",
        "    ret,img = cam.read()\n",
        "    hsv = cv2.cvtColor(img,cv2.COLOR_BGR2HSV)\n",
        "    low = np.array([100,50,50])\n",
        "    high = np.array([140,255,255])\n",
        "    img_mask = cv2.inRange(hsv,low,high)\n",
        "    final_image = cv2.bitwise_and(img,img,mask=img_mask)\n",
        "    cv2.imshow(\"Final Image\",final_image)\n",
        "    cv2.imshow(\"Mask Image\",img_mask)\n",
        "    cv2.imshow(\"HSV\",hsv)\n",
        "    cv2.imshow(\"Webcam\",img)\n",
        "    if cv2.waitKey(1) == 13:     ### 13 - ASCII Code for enter\n",
        "        break\n",
        "cam.release()\n",
        "cv2.destroyAllWindows()"
      ],
      "execution_count": null,
      "outputs": []
    },
    {
      "cell_type": "code",
      "metadata": {
        "id": "CTKKU8pomKVE"
      },
      "source": [
        "### Detect the object by color(green)\n",
        "#### Access a Webcam\n",
        "import cv2\n",
        "import numpy as np\n",
        "cam = cv2.VideoCapture(0)   ## 0 - default webcam\n",
        "while True:\n",
        "    ret,img = cam.read()\n",
        "    hsv = cv2.cvtColor(img,cv2.COLOR_BGR2HSV)\n",
        "    low = np.array([40,50,50])\n",
        "    high = np.array([140,255,255])\n",
        "    img_mask = cv2.inRange(hsv,low,high)\n",
        "    final_image = cv2.bitwise_and(img,img,mask=img_mask)\n",
        "    cv2.imshow(\"Final Image\",final_image)\n",
        "    cv2.imshow(\"Mask Image\",img_mask)\n",
        "    cv2.imshow(\"HSV\",hsv)\n",
        "    cv2.imshow(\"Webcam\",img)\n",
        "    if cv2.waitKey(1) == 13:     ### 13 - ASCII Code for enter\n",
        "        break\n",
        "cam.release()\n",
        "cv2.destroyAllWindows()"
      ],
      "execution_count": null,
      "outputs": []
    },
    {
      "cell_type": "code",
      "metadata": {
        "id": "0Eutsb1NmKVE"
      },
      "source": [
        "### Detect the object by color(red)\n",
        "#### Access a Webcam\n",
        "import cv2\n",
        "import numpy as np\n",
        "cam = cv2.VideoCapture(0)   ## 0 - default webcam\n",
        "while True:\n",
        "    ret,img = cam.read()\n",
        "    hsv = cv2.cvtColor(img,cv2.COLOR_BGR2HSV)\n",
        "    low = np.array([140,150,0])\n",
        "    high = np.array([180,255,255])\n",
        "    img_mask = cv2.inRange(hsv,low,high)\n",
        "    final_image = cv2.bitwise_and(img,img,mask=img_mask)\n",
        "    cv2.imshow(\"Final Image\",final_image)\n",
        "    cv2.imshow(\"Mask Image\",img_mask)\n",
        "    cv2.imshow(\"HSV\",hsv)\n",
        "    cv2.imshow(\"Webcam\",img)\n",
        "    if cv2.waitKey(1) == 13:     ### 13 - ASCII Code for enter\n",
        "        break\n",
        "cam.release()\n",
        "cv2.destroyAllWindows()"
      ],
      "execution_count": null,
      "outputs": []
    },
    {
      "cell_type": "code",
      "metadata": {
        "id": "nSvjciv5mKVF"
      },
      "source": [
        ""
      ],
      "execution_count": null,
      "outputs": []
    }
  ]
}