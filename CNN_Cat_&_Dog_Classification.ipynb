{
  "nbformat": 4,
  "nbformat_minor": 0,
  "metadata": {
    "colab": {
      "name": "Day 10 - CNN - Cat & Dog Classification.ipynb",
      "provenance": [],
      "collapsed_sections": [],
      "include_colab_link": true
    },
    "kernelspec": {
      "name": "python3",
      "display_name": "Python 3"
    },
    "accelerator": "GPU"
  },
  "cells": [
    {
      "cell_type": "markdown",
      "metadata": {
        "id": "view-in-github",
        "colab_type": "text"
      },
      "source": [
        "<a href=\"https://colab.research.google.com/github/sachith1234/k12/blob/master/CNN_Cat_%26_Dog_Classification.ipynb\" target=\"_parent\"><img src=\"https://colab.research.google.com/assets/colab-badge.svg\" alt=\"Open In Colab\"/></a>"
      ]
    },
    {
      "cell_type": "code",
      "metadata": {
        "id": "u3vGjD5XWqi_"
      },
      "source": [
        "from tensorflow.keras.models import Sequential\n",
        "from tensorflow.keras.layers import Flatten\n",
        "from tensorflow.keras.layers import Dense\n",
        "from tensorflow.keras.layers import Conv2D\n",
        "from tensorflow.keras.layers import MaxPooling2D"
      ],
      "execution_count": null,
      "outputs": []
    },
    {
      "cell_type": "code",
      "metadata": {
        "id": "_OVbsMZzX2de",
        "colab": {
          "base_uri": "https://localhost:8080/",
          "height": 34
        },
        "outputId": "346656f2-25ad-44f4-8604-18bc8b403749"
      },
      "source": [
        "from google.colab import drive\n",
        "drive.mount('/content/drive')"
      ],
      "execution_count": null,
      "outputs": [
        {
          "output_type": "stream",
          "text": [
            "Mounted at /content/drive\n"
          ],
          "name": "stdout"
        }
      ]
    },
    {
      "cell_type": "code",
      "metadata": {
        "id": "Ker6rd7hZAZ2",
        "colab": {
          "base_uri": "https://localhost:8080/",
          "height": 34
        },
        "outputId": "6cb02bad-0a8a-4561-b80e-e68e0dca2637"
      },
      "source": [
        "from zipfile import ZipFile\n",
        "filename = \"/content/drive/My Drive/dataset_new.zip\"\n",
        "with ZipFile(filename,'r') as zip:\n",
        "  zip.extractall()\n",
        "  print(\"Done\")"
      ],
      "execution_count": null,
      "outputs": [
        {
          "output_type": "stream",
          "text": [
            "Done\n"
          ],
          "name": "stdout"
        }
      ]
    },
    {
      "cell_type": "code",
      "metadata": {
        "id": "i-uTy-rfaOVq"
      },
      "source": [
        "### Creating model and layers\n",
        "model = Sequential();   ## empty model\n",
        "# Step 1 - Convolution\n",
        "model.add(Conv2D(64,(3,3),input_shape=(64,64,3),activation='relu'))\n",
        "# 64 - no.of filters\n",
        "# Step 2 - Pooling\n",
        "model.add(MaxPooling2D(pool_size=(2,2)))\n",
        "# Step 1 - Convolution\n",
        "model.add(Conv2D(128,(3,3),activation='relu'))\n",
        "# Step 2 - Pooling\n",
        "model.add(MaxPooling2D(pool_size=(2,2)))\n",
        "# Step 3 - Flattening\n",
        "model.add(Flatten())\n",
        "### Hidden and output\n",
        "# Step 4 - Full connection\n",
        "model.add(Dense(128, activation='relu'))    ### hidden layer\n",
        "model.add(Dense(1, activation='sigmoid'))   ## output layer"
      ],
      "execution_count": null,
      "outputs": []
    },
    {
      "cell_type": "code",
      "metadata": {
        "id": "BQ0tu71ScfMh"
      },
      "source": [
        "# Compiling the CNN\n",
        "model.compile(optimizer ='adam',loss='binary_crossentropy',metrics=['accuracy'])"
      ],
      "execution_count": null,
      "outputs": []
    },
    {
      "cell_type": "code",
      "metadata": {
        "id": "Z5QTT7m0dgJk"
      },
      "source": [
        "### Preprocessing of image\n",
        "#https://keras.io/api/preprocessing/image/#imagedatagenerator-class\n",
        "from keras.preprocessing.image import ImageDataGenerator\n",
        "\n",
        "train_datagen = ImageDataGenerator(rescale = 1./255,\n",
        "                                   shear_range = 0.2,\n",
        "                                   zoom_range = 0.2,\n",
        "                                   horizontal_flip = True)\n",
        "test_datagen = ImageDataGenerator(rescale = 1./255,\n",
        "                                  shear_range = 0.2,\n",
        "                                   zoom_range = 0.2,\n",
        "                                   horizontal_flip = True)"
      ],
      "execution_count": null,
      "outputs": []
    },
    {
      "cell_type": "code",
      "metadata": {
        "id": "8tXaNAcRevp6",
        "colab": {
          "base_uri": "https://localhost:8080/",
          "height": 52
        },
        "outputId": "d2e11533-a5e3-4213-ef34-719de1f461b4"
      },
      "source": [
        "training_set = train_datagen.flow_from_directory('/content/dataset_new/training_set',\n",
        "                                                 target_size = (64, 64),\n",
        "                                                 batch_size = 32,\n",
        "                                                 class_mode = 'binary')\n",
        "test_set = test_datagen.flow_from_directory('/content/dataset_new/test_set',\n",
        "                                            target_size = (64, 64),\n",
        "                                            batch_size = 32,\n",
        "                                            class_mode = 'binary')"
      ],
      "execution_count": null,
      "outputs": [
        {
          "output_type": "stream",
          "text": [
            "Found 2000 images belonging to 2 classes.\n",
            "Found 500 images belonging to 2 classes.\n"
          ],
          "name": "stdout"
        }
      ]
    },
    {
      "cell_type": "code",
      "metadata": {
        "id": "Y8Y7Fh8_fBhL",
        "colab": {
          "base_uri": "https://localhost:8080/",
          "height": 1000
        },
        "outputId": "657b07e5-3d36-497f-a8fa-823940bb5cb7"
      },
      "source": [
        "### Train the model\n",
        "model.fit_generator(training_set,\n",
        "                         steps_per_epoch = 60,\n",
        "                         epochs = 100,\n",
        "                         validation_data = test_set,\n",
        "                         validation_steps = 15)"
      ],
      "execution_count": null,
      "outputs": [
        {
          "output_type": "stream",
          "text": [
            "WARNING:tensorflow:From <ipython-input-8-f0e78653aff0>:6: Model.fit_generator (from tensorflow.python.keras.engine.training) is deprecated and will be removed in a future version.\n",
            "Instructions for updating:\n",
            "Please use Model.fit, which supports generators.\n",
            "Epoch 1/100\n",
            "60/60 [==============================] - 8s 128ms/step - loss: 0.7203 - accuracy: 0.5205 - val_loss: 0.6912 - val_accuracy: 0.5396\n",
            "Epoch 2/100\n",
            "60/60 [==============================] - 8s 126ms/step - loss: 0.6867 - accuracy: 0.5578 - val_loss: 0.6751 - val_accuracy: 0.5521\n",
            "Epoch 3/100\n",
            "60/60 [==============================] - 8s 125ms/step - loss: 0.6414 - accuracy: 0.6303 - val_loss: 0.6669 - val_accuracy: 0.6062\n",
            "Epoch 4/100\n",
            "60/60 [==============================] - 8s 126ms/step - loss: 0.6207 - accuracy: 0.6723 - val_loss: 0.6257 - val_accuracy: 0.6521\n",
            "Epoch 5/100\n",
            "60/60 [==============================] - 7s 125ms/step - loss: 0.5886 - accuracy: 0.6896 - val_loss: 0.6221 - val_accuracy: 0.6625\n",
            "Epoch 6/100\n",
            "60/60 [==============================] - 7s 125ms/step - loss: 0.5574 - accuracy: 0.7269 - val_loss: 0.5872 - val_accuracy: 0.7063\n",
            "Epoch 7/100\n",
            "60/60 [==============================] - 8s 125ms/step - loss: 0.5442 - accuracy: 0.7332 - val_loss: 0.7225 - val_accuracy: 0.6271\n",
            "Epoch 8/100\n",
            "60/60 [==============================] - 8s 125ms/step - loss: 0.5519 - accuracy: 0.7274 - val_loss: 0.5918 - val_accuracy: 0.6917\n",
            "Epoch 9/100\n",
            "60/60 [==============================] - 8s 125ms/step - loss: 0.5368 - accuracy: 0.7285 - val_loss: 0.5918 - val_accuracy: 0.6833\n",
            "Epoch 10/100\n",
            "60/60 [==============================] - 7s 124ms/step - loss: 0.5147 - accuracy: 0.7426 - val_loss: 0.5514 - val_accuracy: 0.7271\n",
            "Epoch 11/100\n",
            "60/60 [==============================] - 7s 125ms/step - loss: 0.4981 - accuracy: 0.7642 - val_loss: 0.5925 - val_accuracy: 0.7208\n",
            "Epoch 12/100\n",
            "60/60 [==============================] - 7s 125ms/step - loss: 0.4802 - accuracy: 0.7857 - val_loss: 0.5597 - val_accuracy: 0.7333\n",
            "Epoch 13/100\n",
            "60/60 [==============================] - 7s 125ms/step - loss: 0.4561 - accuracy: 0.7910 - val_loss: 0.5618 - val_accuracy: 0.6958\n",
            "Epoch 14/100\n",
            "60/60 [==============================] - 8s 127ms/step - loss: 0.4528 - accuracy: 0.7957 - val_loss: 0.5439 - val_accuracy: 0.7583\n",
            "Epoch 15/100\n",
            "60/60 [==============================] - 8s 126ms/step - loss: 0.4323 - accuracy: 0.7941 - val_loss: 0.5559 - val_accuracy: 0.7292\n",
            "Epoch 16/100\n",
            "60/60 [==============================] - 7s 125ms/step - loss: 0.4164 - accuracy: 0.8188 - val_loss: 0.5151 - val_accuracy: 0.7396\n",
            "Epoch 17/100\n",
            "60/60 [==============================] - 8s 125ms/step - loss: 0.4104 - accuracy: 0.8225 - val_loss: 0.5469 - val_accuracy: 0.7521\n",
            "Epoch 18/100\n",
            "60/60 [==============================] - 8s 125ms/step - loss: 0.3995 - accuracy: 0.8214 - val_loss: 0.5491 - val_accuracy: 0.7333\n",
            "Epoch 19/100\n",
            "60/60 [==============================] - 8s 125ms/step - loss: 0.3763 - accuracy: 0.8430 - val_loss: 0.5563 - val_accuracy: 0.7396\n",
            "Epoch 20/100\n",
            "60/60 [==============================] - 7s 125ms/step - loss: 0.3527 - accuracy: 0.8461 - val_loss: 0.5968 - val_accuracy: 0.7312\n",
            "Epoch 21/100\n",
            "60/60 [==============================] - 8s 126ms/step - loss: 0.3568 - accuracy: 0.8382 - val_loss: 0.5851 - val_accuracy: 0.7312\n",
            "Epoch 22/100\n",
            "60/60 [==============================] - 8s 126ms/step - loss: 0.3333 - accuracy: 0.8529 - val_loss: 0.5926 - val_accuracy: 0.7521\n",
            "Epoch 23/100\n",
            "60/60 [==============================] - 8s 126ms/step - loss: 0.3122 - accuracy: 0.8640 - val_loss: 0.6003 - val_accuracy: 0.7563\n",
            "Epoch 24/100\n",
            "60/60 [==============================] - 8s 126ms/step - loss: 0.2879 - accuracy: 0.8782 - val_loss: 0.5789 - val_accuracy: 0.7521\n",
            "Epoch 25/100\n",
            "60/60 [==============================] - 8s 129ms/step - loss: 0.2751 - accuracy: 0.8845 - val_loss: 0.5645 - val_accuracy: 0.7667\n",
            "Epoch 26/100\n",
            "60/60 [==============================] - 8s 127ms/step - loss: 0.2659 - accuracy: 0.8923 - val_loss: 0.6156 - val_accuracy: 0.7437\n",
            "Epoch 27/100\n",
            "60/60 [==============================] - 8s 127ms/step - loss: 0.2476 - accuracy: 0.8997 - val_loss: 0.7500 - val_accuracy: 0.7167\n",
            "Epoch 28/100\n",
            "60/60 [==============================] - 8s 126ms/step - loss: 0.2738 - accuracy: 0.8850 - val_loss: 0.5666 - val_accuracy: 0.7729\n",
            "Epoch 29/100\n",
            "60/60 [==============================] - 8s 125ms/step - loss: 0.2213 - accuracy: 0.9107 - val_loss: 0.6785 - val_accuracy: 0.7667\n",
            "Epoch 30/100\n",
            "60/60 [==============================] - 7s 125ms/step - loss: 0.2070 - accuracy: 0.9139 - val_loss: 0.6442 - val_accuracy: 0.7542\n",
            "Epoch 31/100\n",
            "60/60 [==============================] - 7s 125ms/step - loss: 0.1997 - accuracy: 0.9181 - val_loss: 0.8021 - val_accuracy: 0.7000\n",
            "Epoch 32/100\n",
            "60/60 [==============================] - 8s 125ms/step - loss: 0.1878 - accuracy: 0.9296 - val_loss: 0.6573 - val_accuracy: 0.7750\n",
            "Epoch 33/100\n",
            "60/60 [==============================] - 8s 125ms/step - loss: 0.1932 - accuracy: 0.9196 - val_loss: 0.6912 - val_accuracy: 0.7604\n",
            "Epoch 34/100\n",
            "60/60 [==============================] - 8s 125ms/step - loss: 0.1546 - accuracy: 0.9433 - val_loss: 0.7283 - val_accuracy: 0.7542\n",
            "Epoch 35/100\n",
            "60/60 [==============================] - 8s 127ms/step - loss: 0.1599 - accuracy: 0.9375 - val_loss: 0.6791 - val_accuracy: 0.7667\n",
            "Epoch 36/100\n",
            "60/60 [==============================] - 8s 126ms/step - loss: 0.1763 - accuracy: 0.9307 - val_loss: 0.7630 - val_accuracy: 0.7375\n",
            "Epoch 37/100\n",
            "60/60 [==============================] - 8s 128ms/step - loss: 0.1503 - accuracy: 0.9449 - val_loss: 0.8189 - val_accuracy: 0.7646\n",
            "Epoch 38/100\n",
            "60/60 [==============================] - 8s 129ms/step - loss: 0.1244 - accuracy: 0.9580 - val_loss: 0.7611 - val_accuracy: 0.7771\n",
            "Epoch 39/100\n",
            "60/60 [==============================] - 8s 127ms/step - loss: 0.1228 - accuracy: 0.9522 - val_loss: 0.8156 - val_accuracy: 0.7604\n",
            "Epoch 40/100\n",
            "60/60 [==============================] - 8s 128ms/step - loss: 0.1284 - accuracy: 0.9538 - val_loss: 0.9378 - val_accuracy: 0.7458\n",
            "Epoch 41/100\n",
            "60/60 [==============================] - 8s 127ms/step - loss: 0.1004 - accuracy: 0.9643 - val_loss: 0.7624 - val_accuracy: 0.7792\n",
            "Epoch 42/100\n",
            "60/60 [==============================] - 8s 126ms/step - loss: 0.0799 - accuracy: 0.9769 - val_loss: 0.8522 - val_accuracy: 0.7583\n",
            "Epoch 43/100\n",
            "60/60 [==============================] - 8s 126ms/step - loss: 0.0906 - accuracy: 0.9659 - val_loss: 0.9342 - val_accuracy: 0.7521\n",
            "Epoch 44/100\n",
            "60/60 [==============================] - 8s 126ms/step - loss: 0.1044 - accuracy: 0.9585 - val_loss: 0.8283 - val_accuracy: 0.7729\n",
            "Epoch 45/100\n",
            "60/60 [==============================] - 8s 129ms/step - loss: 0.0936 - accuracy: 0.9680 - val_loss: 0.7630 - val_accuracy: 0.7604\n",
            "Epoch 46/100\n",
            "60/60 [==============================] - 8s 126ms/step - loss: 0.1060 - accuracy: 0.9632 - val_loss: 0.8563 - val_accuracy: 0.7583\n",
            "Epoch 47/100\n",
            "60/60 [==============================] - 7s 125ms/step - loss: 0.0897 - accuracy: 0.9753 - val_loss: 0.8360 - val_accuracy: 0.7479\n",
            "Epoch 48/100\n",
            "60/60 [==============================] - 7s 125ms/step - loss: 0.0744 - accuracy: 0.9758 - val_loss: 0.9119 - val_accuracy: 0.7583\n",
            "Epoch 49/100\n",
            "60/60 [==============================] - 7s 125ms/step - loss: 0.0696 - accuracy: 0.9737 - val_loss: 0.8781 - val_accuracy: 0.7750\n",
            "Epoch 50/100\n",
            "60/60 [==============================] - 8s 125ms/step - loss: 0.0747 - accuracy: 0.9748 - val_loss: 1.1363 - val_accuracy: 0.7125\n",
            "Epoch 51/100\n",
            "60/60 [==============================] - 7s 125ms/step - loss: 0.0791 - accuracy: 0.9695 - val_loss: 1.0659 - val_accuracy: 0.7375\n",
            "Epoch 52/100\n",
            "60/60 [==============================] - 7s 124ms/step - loss: 0.0522 - accuracy: 0.9842 - val_loss: 0.9570 - val_accuracy: 0.7604\n",
            "Epoch 53/100\n",
            "60/60 [==============================] - 7s 124ms/step - loss: 0.0632 - accuracy: 0.9748 - val_loss: 0.9241 - val_accuracy: 0.7479\n",
            "Epoch 54/100\n",
            "60/60 [==============================] - 7s 125ms/step - loss: 0.0622 - accuracy: 0.9785 - val_loss: 1.0557 - val_accuracy: 0.7646\n",
            "Epoch 55/100\n",
            "60/60 [==============================] - 7s 124ms/step - loss: 0.0798 - accuracy: 0.9706 - val_loss: 0.9045 - val_accuracy: 0.7625\n",
            "Epoch 56/100\n",
            "60/60 [==============================] - 8s 126ms/step - loss: 0.0623 - accuracy: 0.9764 - val_loss: 0.9314 - val_accuracy: 0.7583\n",
            "Epoch 57/100\n",
            "60/60 [==============================] - 8s 126ms/step - loss: 0.0511 - accuracy: 0.9827 - val_loss: 1.0536 - val_accuracy: 0.7646\n",
            "Epoch 58/100\n",
            "60/60 [==============================] - 8s 125ms/step - loss: 0.0526 - accuracy: 0.9848 - val_loss: 1.0614 - val_accuracy: 0.7437\n",
            "Epoch 59/100\n",
            "60/60 [==============================] - 7s 125ms/step - loss: 0.0481 - accuracy: 0.9800 - val_loss: 1.0935 - val_accuracy: 0.7500\n",
            "Epoch 60/100\n",
            "60/60 [==============================] - 7s 125ms/step - loss: 0.0492 - accuracy: 0.9837 - val_loss: 1.0589 - val_accuracy: 0.7437\n",
            "Epoch 61/100\n",
            "60/60 [==============================] - 7s 125ms/step - loss: 0.0559 - accuracy: 0.9827 - val_loss: 1.1863 - val_accuracy: 0.7396\n",
            "Epoch 62/100\n",
            "60/60 [==============================] - 7s 124ms/step - loss: 0.0469 - accuracy: 0.9853 - val_loss: 1.1445 - val_accuracy: 0.7563\n",
            "Epoch 63/100\n",
            "60/60 [==============================] - 8s 125ms/step - loss: 0.0443 - accuracy: 0.9858 - val_loss: 1.0803 - val_accuracy: 0.7417\n",
            "Epoch 64/100\n",
            "60/60 [==============================] - 7s 124ms/step - loss: 0.0434 - accuracy: 0.9821 - val_loss: 1.0637 - val_accuracy: 0.7604\n",
            "Epoch 65/100\n",
            "60/60 [==============================] - 8s 127ms/step - loss: 0.0525 - accuracy: 0.9811 - val_loss: 1.0691 - val_accuracy: 0.7646\n",
            "Epoch 66/100\n",
            "60/60 [==============================] - 8s 125ms/step - loss: 0.0336 - accuracy: 0.9900 - val_loss: 1.0216 - val_accuracy: 0.7729\n",
            "Epoch 67/100\n",
            "60/60 [==============================] - 8s 127ms/step - loss: 0.0471 - accuracy: 0.9837 - val_loss: 1.0712 - val_accuracy: 0.7563\n",
            "Epoch 68/100\n",
            "60/60 [==============================] - 8s 125ms/step - loss: 0.0326 - accuracy: 0.9895 - val_loss: 1.0309 - val_accuracy: 0.7896\n",
            "Epoch 69/100\n",
            "60/60 [==============================] - 7s 124ms/step - loss: 0.0326 - accuracy: 0.9905 - val_loss: 1.2379 - val_accuracy: 0.7583\n",
            "Epoch 70/100\n",
            "60/60 [==============================] - 7s 125ms/step - loss: 0.0302 - accuracy: 0.9884 - val_loss: 1.1510 - val_accuracy: 0.7229\n",
            "Epoch 71/100\n",
            "60/60 [==============================] - 8s 125ms/step - loss: 0.0328 - accuracy: 0.9884 - val_loss: 1.2137 - val_accuracy: 0.7646\n",
            "Epoch 72/100\n",
            "60/60 [==============================] - 8s 125ms/step - loss: 0.0253 - accuracy: 0.9916 - val_loss: 1.2614 - val_accuracy: 0.7542\n",
            "Epoch 73/100\n",
            "60/60 [==============================] - 7s 125ms/step - loss: 0.0441 - accuracy: 0.9842 - val_loss: 1.1328 - val_accuracy: 0.7625\n",
            "Epoch 74/100\n",
            "60/60 [==============================] - 7s 125ms/step - loss: 0.0430 - accuracy: 0.9837 - val_loss: 1.1589 - val_accuracy: 0.7375\n",
            "Epoch 75/100\n",
            "60/60 [==============================] - 7s 125ms/step - loss: 0.0288 - accuracy: 0.9895 - val_loss: 1.1534 - val_accuracy: 0.7437\n",
            "Epoch 76/100\n",
            "60/60 [==============================] - 7s 124ms/step - loss: 0.0274 - accuracy: 0.9890 - val_loss: 1.1741 - val_accuracy: 0.7500\n",
            "Epoch 77/100\n",
            "60/60 [==============================] - 8s 127ms/step - loss: 0.0346 - accuracy: 0.9880 - val_loss: 1.2662 - val_accuracy: 0.7396\n",
            "Epoch 78/100\n",
            "60/60 [==============================] - 8s 129ms/step - loss: 0.0185 - accuracy: 0.9963 - val_loss: 1.2130 - val_accuracy: 0.7729\n",
            "Epoch 79/100\n",
            "60/60 [==============================] - 8s 127ms/step - loss: 0.0232 - accuracy: 0.9905 - val_loss: 1.2485 - val_accuracy: 0.7479\n",
            "Epoch 80/100\n",
            "60/60 [==============================] - 7s 124ms/step - loss: 0.0408 - accuracy: 0.9869 - val_loss: 1.1546 - val_accuracy: 0.7750\n",
            "Epoch 81/100\n",
            "60/60 [==============================] - 8s 125ms/step - loss: 0.0419 - accuracy: 0.9858 - val_loss: 1.2447 - val_accuracy: 0.7312\n",
            "Epoch 82/100\n",
            "60/60 [==============================] - 7s 124ms/step - loss: 0.0228 - accuracy: 0.9921 - val_loss: 1.1534 - val_accuracy: 0.7479\n",
            "Epoch 83/100\n",
            "60/60 [==============================] - 7s 125ms/step - loss: 0.0272 - accuracy: 0.9937 - val_loss: 1.3185 - val_accuracy: 0.7250\n",
            "Epoch 84/100\n",
            "60/60 [==============================] - 7s 125ms/step - loss: 0.0513 - accuracy: 0.9774 - val_loss: 1.1685 - val_accuracy: 0.7729\n",
            "Epoch 85/100\n",
            "60/60 [==============================] - 7s 125ms/step - loss: 0.0293 - accuracy: 0.9905 - val_loss: 1.1226 - val_accuracy: 0.7458\n",
            "Epoch 86/100\n",
            "60/60 [==============================] - 7s 125ms/step - loss: 0.0165 - accuracy: 0.9937 - val_loss: 1.3886 - val_accuracy: 0.7208\n",
            "Epoch 87/100\n",
            "60/60 [==============================] - 8s 126ms/step - loss: 0.0240 - accuracy: 0.9911 - val_loss: 1.1604 - val_accuracy: 0.7708\n",
            "Epoch 88/100\n",
            "60/60 [==============================] - 8s 127ms/step - loss: 0.0248 - accuracy: 0.9916 - val_loss: 1.1389 - val_accuracy: 0.7729\n",
            "Epoch 89/100\n",
            "60/60 [==============================] - 8s 126ms/step - loss: 0.0177 - accuracy: 0.9932 - val_loss: 1.0254 - val_accuracy: 0.7979\n",
            "Epoch 90/100\n",
            "60/60 [==============================] - 8s 125ms/step - loss: 0.0449 - accuracy: 0.9837 - val_loss: 1.3125 - val_accuracy: 0.7521\n",
            "Epoch 91/100\n",
            "60/60 [==============================] - 8s 125ms/step - loss: 0.0474 - accuracy: 0.9848 - val_loss: 1.3273 - val_accuracy: 0.7437\n",
            "Epoch 92/100\n",
            "60/60 [==============================] - 8s 126ms/step - loss: 0.0456 - accuracy: 0.9853 - val_loss: 1.1367 - val_accuracy: 0.7625\n",
            "Epoch 93/100\n",
            "60/60 [==============================] - 8s 126ms/step - loss: 0.0407 - accuracy: 0.9865 - val_loss: 1.1069 - val_accuracy: 0.7708\n",
            "Epoch 94/100\n",
            "60/60 [==============================] - 8s 128ms/step - loss: 0.0191 - accuracy: 0.9947 - val_loss: 1.2734 - val_accuracy: 0.7625\n",
            "Epoch 95/100\n",
            "60/60 [==============================] - 8s 125ms/step - loss: 0.0255 - accuracy: 0.9900 - val_loss: 1.4176 - val_accuracy: 0.7563\n",
            "Epoch 96/100\n",
            "60/60 [==============================] - 8s 126ms/step - loss: 0.0364 - accuracy: 0.9848 - val_loss: 1.2095 - val_accuracy: 0.7542\n",
            "Epoch 97/100\n",
            "60/60 [==============================] - 8s 127ms/step - loss: 0.0138 - accuracy: 0.9979 - val_loss: 1.2559 - val_accuracy: 0.7792\n",
            "Epoch 98/100\n",
            "60/60 [==============================] - 8s 129ms/step - loss: 0.0158 - accuracy: 0.9953 - val_loss: 1.2436 - val_accuracy: 0.7625\n",
            "Epoch 99/100\n",
            "60/60 [==============================] - 8s 127ms/step - loss: 0.0143 - accuracy: 0.9953 - val_loss: 1.2529 - val_accuracy: 0.7771\n",
            "Epoch 100/100\n",
            "60/60 [==============================] - 8s 126ms/step - loss: 0.0287 - accuracy: 0.9905 - val_loss: 1.2403 - val_accuracy: 0.7437\n"
          ],
          "name": "stdout"
        },
        {
          "output_type": "execute_result",
          "data": {
            "text/plain": [
              "<tensorflow.python.keras.callbacks.History at 0x7fdb7032cb70>"
            ]
          },
          "metadata": {
            "tags": []
          },
          "execution_count": 8
        }
      ]
    },
    {
      "cell_type": "code",
      "metadata": {
        "id": "Oa3dfRcBgKc9",
        "colab": {
          "base_uri": "https://localhost:8080/",
          "height": 34
        },
        "outputId": "ce42f0ce-5f91-481e-fb71-96ebffd59dfc"
      },
      "source": [
        "import numpy as np\n",
        "from keras.preprocessing import image \n",
        "test_image = image.load_img('cat.jpg',target_size=(64,64)) \n",
        "test_image = image.img_to_array(test_image)\n",
        "test_image = np.expand_dims(test_image,axis=0)   ### 1-d array\n",
        "result = model.predict(test_image)\n",
        "if result[0][0] == 1:\n",
        "  prediction = 'dog'\n",
        "  print(prediction)\n",
        "else:\n",
        "  prediction = 'cat'\n",
        "  print(prediction)"
      ],
      "execution_count": null,
      "outputs": [
        {
          "output_type": "stream",
          "text": [
            "cat\n"
          ],
          "name": "stdout"
        }
      ]
    },
    {
      "cell_type": "code",
      "metadata": {
        "id": "AWopdcZGlWzJ",
        "colab": {
          "base_uri": "https://localhost:8080/",
          "height": 34
        },
        "outputId": "7d0b7c39-9c3c-4811-bcdb-8222477ce70b"
      },
      "source": [
        "result[0][0]"
      ],
      "execution_count": null,
      "outputs": [
        {
          "output_type": "execute_result",
          "data": {
            "text/plain": [
              "0.0"
            ]
          },
          "metadata": {
            "tags": []
          },
          "execution_count": 18
        }
      ]
    },
    {
      "cell_type": "code",
      "metadata": {
        "id": "eGDNx1E3l0ci"
      },
      "source": [
        ""
      ],
      "execution_count": null,
      "outputs": []
    }
  ]
}