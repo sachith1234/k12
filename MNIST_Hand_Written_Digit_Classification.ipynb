{
  "nbformat": 4,
  "nbformat_minor": 0,
  "metadata": {
    "colab": {
      "name": "Day 9 - MNIST Hand Written Digit Classification.ipynb",
      "provenance": [],
      "collapsed_sections": [],
      "include_colab_link": true
    },
    "kernelspec": {
      "name": "python3",
      "display_name": "Python 3"
    }
  },
  "cells": [
    {
      "cell_type": "markdown",
      "metadata": {
        "id": "view-in-github",
        "colab_type": "text"
      },
      "source": [
        "<a href=\"https://colab.research.google.com/github/sachith1234/k12/blob/master/MNIST_Hand_Written_Digit_Classification.ipynb\" target=\"_parent\"><img src=\"https://colab.research.google.com/assets/colab-badge.svg\" alt=\"Open In Colab\"/></a>"
      ]
    },
    {
      "cell_type": "code",
      "metadata": {
        "id": "EOKoDlPweQdC"
      },
      "source": [
        "import tensorflow.keras as tf\n",
        "import numpy as np"
      ],
      "execution_count": null,
      "outputs": []
    },
    {
      "cell_type": "code",
      "metadata": {
        "id": "skHvCyMmfOU1",
        "colab": {
          "base_uri": "https://localhost:8080/",
          "height": 52
        },
        "outputId": "c7a3eaf2-cacc-497b-e2f7-8040fc16de64"
      },
      "source": [
        "mnist = tf.datasets.mnist\n",
        "(xtrain,ytrain),(xtest,ytest) = mnist.load_data()"
      ],
      "execution_count": null,
      "outputs": [
        {
          "output_type": "stream",
          "text": [
            "Downloading data from https://storage.googleapis.com/tensorflow/tf-keras-datasets/mnist.npz\n",
            "11493376/11490434 [==============================] - 0s 0us/step\n"
          ],
          "name": "stdout"
        }
      ]
    },
    {
      "cell_type": "code",
      "metadata": {
        "id": "2_0OsLBwfpLr",
        "colab": {
          "base_uri": "https://localhost:8080/",
          "height": 34
        },
        "outputId": "196d9f00-9dce-4c35-e7ca-5681d2c6166d"
      },
      "source": [
        "len(xtrain)"
      ],
      "execution_count": null,
      "outputs": [
        {
          "output_type": "execute_result",
          "data": {
            "text/plain": [
              "60000"
            ]
          },
          "metadata": {
            "tags": []
          },
          "execution_count": 3
        }
      ]
    },
    {
      "cell_type": "code",
      "metadata": {
        "id": "v_0aenI4g_fB",
        "colab": {
          "base_uri": "https://localhost:8080/",
          "height": 34
        },
        "outputId": "4bf9c2e9-b52e-46cd-acf0-8899d740ba8a"
      },
      "source": [
        "xtrain.shape"
      ],
      "execution_count": null,
      "outputs": [
        {
          "output_type": "execute_result",
          "data": {
            "text/plain": [
              "(60000, 28, 28)"
            ]
          },
          "metadata": {
            "tags": []
          },
          "execution_count": 6
        }
      ]
    },
    {
      "cell_type": "code",
      "metadata": {
        "id": "qJoJCqWAhB40",
        "colab": {
          "base_uri": "https://localhost:8080/",
          "height": 265
        },
        "outputId": "0c717646-d6f2-4e81-8617-b981e0908889"
      },
      "source": [
        "import matplotlib.pyplot as plt\n",
        "plt.imshow(xtrain[4],cmap='gray')\n",
        "plt.show()"
      ],
      "execution_count": null,
      "outputs": [
        {
          "output_type": "display_data",
          "data": {
            "image/png": "[encoded data removed]",
            "text/plain": [
              "<Figure size 432x288 with 1 Axes>"
            ]
          },
          "metadata": {
            "tags": [],
            "needs_background": "light"
          }
        }
      ]
    },
    {
      "cell_type": "code",
      "metadata": {
        "id": "5iEhYBPphh9v",
        "colab": {
          "base_uri": "https://localhost:8080/",
          "height": 34
        },
        "outputId": "1bd35ba5-e3ba-43dc-eecf-da3eeb874959"
      },
      "source": [
        "ytrain[4]"
      ],
      "execution_count": null,
      "outputs": [
        {
          "output_type": "execute_result",
          "data": {
            "text/plain": [
              "9"
            ]
          },
          "metadata": {
            "tags": []
          },
          "execution_count": 8
        }
      ]
    },
    {
      "cell_type": "code",
      "metadata": {
        "id": "ZfPFBWUhhlw8",
        "colab": {
          "base_uri": "https://localhost:8080/",
          "height": 34
        },
        "outputId": "4b400aef-4451-404c-a6f4-bef648ab05ea"
      },
      "source": [
        "xtrain[4].shape"
      ],
      "execution_count": null,
      "outputs": [
        {
          "output_type": "execute_result",
          "data": {
            "text/plain": [
              "(28, 28)"
            ]
          },
          "metadata": {
            "tags": []
          },
          "execution_count": 10
        }
      ]
    },
    {
      "cell_type": "code",
      "metadata": {
        "id": "gHfJvslzh3Iz"
      },
      "source": [
        "### Artificial Neural Network"
      ],
      "execution_count": null,
      "outputs": []
    },
    {
      "cell_type": "code",
      "metadata": {
        "id": "UQYepfqKiDYf"
      },
      "source": [
        "## Create the model\n",
        "model = tf.models.Sequential()  ## blank nn with no layers\n",
        "## add the layers\n",
        "model.add(tf.layers.Flatten())   ## input layer\n",
        "model.add(tf.layers.Dense(784,activation=\"relu\"))     ## hidden layer (28*28)\n",
        "model.add(tf.layers.Dense(10,activation = \"softmax\")) ### output layer"
      ],
      "execution_count": null,
      "outputs": []
    },
    {
      "cell_type": "code",
      "metadata": {
        "id": "WN1e9MzZjuiv"
      },
      "source": [
        "### Configure the model\n",
        "model.compile(loss=\"sparse_categorical_crossentropy\",optimizer='adam',metrics=['accuracy'])"
      ],
      "execution_count": null,
      "outputs": []
    },
    {
      "cell_type": "code",
      "metadata": {
        "id": "EYL4g3vskluM"
      },
      "source": [
        "## scale the data\n",
        "xtrain = xtrain/255\n",
        "xtest = xtest/255"
      ],
      "execution_count": null,
      "outputs": []
    },
    {
      "cell_type": "code",
      "metadata": {
        "id": "8s9szj0tlZiI"
      },
      "source": [
        "xtrain[4]"
      ],
      "execution_count": null,
      "outputs": []
    },
    {
      "cell_type": "code",
      "metadata": {
        "id": "G2SFdSN6lD1i",
        "colab": {
          "base_uri": "https://localhost:8080/",
          "height": 553
        },
        "outputId": "b8c67609-79aa-4168-d4b3-5042c96a75a4"
      },
      "source": [
        "#### train the model\n",
        "model.fit(xtrain,ytrain,epochs=15)"
      ],
      "execution_count": null,
      "outputs": [
        {
          "output_type": "stream",
          "text": [
            "Epoch 1/15\n",
            "1875/1875 [==============================] - 10s 5ms/step - loss: 0.1908 - accuracy: 0.9437\n",
            "Epoch 2/15\n",
            "1875/1875 [==============================] - 10s 5ms/step - loss: 0.0764 - accuracy: 0.9768\n",
            "Epoch 3/15\n",
            "1875/1875 [==============================] - 10s 5ms/step - loss: 0.0484 - accuracy: 0.9852\n",
            "Epoch 4/15\n",
            "1875/1875 [==============================] - 10s 6ms/step - loss: 0.0339 - accuracy: 0.9891\n",
            "Epoch 5/15\n",
            "1875/1875 [==============================] - 11s 6ms/step - loss: 0.0261 - accuracy: 0.9914\n",
            "Epoch 6/15\n",
            "1875/1875 [==============================] - 10s 5ms/step - loss: 0.0215 - accuracy: 0.9929\n",
            "Epoch 7/15\n",
            "1875/1875 [==============================] - 10s 5ms/step - loss: 0.0190 - accuracy: 0.9937\n",
            "Epoch 8/15\n",
            "1875/1875 [==============================] - 10s 5ms/step - loss: 0.0128 - accuracy: 0.9956\n",
            "Epoch 9/15\n",
            "1875/1875 [==============================] - 10s 5ms/step - loss: 0.0127 - accuracy: 0.9962\n",
            "Epoch 10/15\n",
            "1875/1875 [==============================] - 10s 5ms/step - loss: 0.0106 - accuracy: 0.9964\n",
            "Epoch 11/15\n",
            "1875/1875 [==============================] - 10s 5ms/step - loss: 0.0098 - accuracy: 0.9967\n",
            "Epoch 12/15\n",
            "1875/1875 [==============================] - 10s 5ms/step - loss: 0.0103 - accuracy: 0.9965\n",
            "Epoch 13/15\n",
            "1875/1875 [==============================] - 10s 5ms/step - loss: 0.0089 - accuracy: 0.9969\n",
            "Epoch 14/15\n",
            "1875/1875 [==============================] - 10s 5ms/step - loss: 0.0080 - accuracy: 0.9977\n",
            "Epoch 15/15\n",
            "1875/1875 [==============================] - 10s 5ms/step - loss: 0.0078 - accuracy: 0.9972\n"
          ],
          "name": "stdout"
        },
        {
          "output_type": "execute_result",
          "data": {
            "text/plain": [
              "<tensorflow.python.keras.callbacks.History at 0x7f9aa5c15da0>"
            ]
          },
          "metadata": {
            "tags": []
          },
          "execution_count": 17
        }
      ]
    },
    {
      "cell_type": "code",
      "metadata": {
        "id": "U1l7I7kqlfxa"
      },
      "source": [
        "### Prediction\n",
        "ypred = model.predict(xtest)"
      ],
      "execution_count": null,
      "outputs": []
    },
    {
      "cell_type": "code",
      "metadata": {
        "id": "VCcGClJSnH7T",
        "colab": {
          "base_uri": "https://localhost:8080/",
          "height": 34
        },
        "outputId": "a68ca089-b69c-4db7-89e7-f79918007179"
      },
      "source": [
        "ytest[200]"
      ],
      "execution_count": null,
      "outputs": [
        {
          "output_type": "execute_result",
          "data": {
            "text/plain": [
              "3"
            ]
          },
          "metadata": {
            "tags": []
          },
          "execution_count": 22
        }
      ]
    },
    {
      "cell_type": "code",
      "metadata": {
        "id": "7xUk_J64nNZl",
        "colab": {
          "base_uri": "https://localhost:8080/",
          "height": 69
        },
        "outputId": "e49553d1-3f3d-4e6f-e366-2de7270e893c"
      },
      "source": [
        "ypred[200]"
      ],
      "execution_count": null,
      "outputs": [
        {
          "output_type": "execute_result",
          "data": {
            "text/plain": [
              "array([1.4904142e-18, 2.3421427e-16, 2.5733211e-09, 1.0000000e+00,\n",
              "       1.4684916e-22, 1.8956592e-11, 2.9658493e-20, 4.5961654e-16,\n",
              "       1.5635850e-08, 2.0462458e-16], dtype=float32)"
            ]
          },
          "metadata": {
            "tags": []
          },
          "execution_count": 23
        }
      ]
    },
    {
      "cell_type": "code",
      "metadata": {
        "id": "Sphf-SQTnXCU",
        "colab": {
          "base_uri": "https://localhost:8080/",
          "height": 34
        },
        "outputId": "caf38944-505e-497e-cc2f-858d75c3aec1"
      },
      "source": [
        "np.argmax(ypred[200])"
      ],
      "execution_count": null,
      "outputs": [
        {
          "output_type": "execute_result",
          "data": {
            "text/plain": [
              "3"
            ]
          },
          "metadata": {
            "tags": []
          },
          "execution_count": 24
        }
      ]
    },
    {
      "cell_type": "code",
      "metadata": {
        "id": "9f3TJjAHnnam",
        "colab": {
          "base_uri": "https://localhost:8080/",
          "height": 52
        },
        "outputId": "b9ec3894-040c-4def-82ce-a9252a95c93c"
      },
      "source": [
        "model.evaluate(xtest,ytest)"
      ],
      "execution_count": null,
      "outputs": [
        {
          "output_type": "stream",
          "text": [
            "313/313 [==============================] - 1s 3ms/step - loss: 0.1211 - accuracy: 0.9793\n"
          ],
          "name": "stdout"
        },
        {
          "output_type": "execute_result",
          "data": {
            "text/plain": [
              "[0.1210571750998497, 0.9793000221252441]"
            ]
          },
          "metadata": {
            "tags": []
          },
          "execution_count": 25
        }
      ]
    },
    {
      "cell_type": "code",
      "metadata": {
        "id": "NgdAjoZGn_7r"
      },
      "source": [
        "#counting faces\n",
        "import cv2\n",
        "cam = cv2.VideoCapture(0)   ## 0 - default webcam\n",
        "face_cascade = cv2.CascadeClassifier('face.xml')\n",
        "count=0\n",
        "while True:\n",
        "    ret,img = cam.read()\n",
        "    faces = face_cascade.detectMultiScale(img,1.5)\n",
        "    for x,y,w,h in faces:\n",
        "        p1 = (x,y)\n",
        "        p2 = (x+w,y+h)\n",
        "        color = (255,0,0)\n",
        "        cv2.rectangle(img,p1,p2,color,3)\n",
        "        count = \"No. of faces = \"+str(len(faces))\n",
        "        cv2.putText(img,count,(100,200),cv2.FONT_HERSHEY_DUPLEX,2.5,(0,0,255),3)\n",
        "        print(count)\n",
        "        cv2.imshow(\"Webcam\",img)\n",
        "    if cv2.waitKey(1) == 13:     ### 13 - ASCII Code for enter\n",
        "        break\n",
        "cam.release()\n",
        "cv2.destroyAllWindows()\n"
      ],
      "execution_count": null,
      "outputs": []
    }
  ]
}